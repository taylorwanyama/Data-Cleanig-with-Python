{
 "cells": [
  {
   "cell_type": "code",
   "execution_count": 37,
   "id": "5df26459-43f0-4e6c-9b88-b02bb9d81a82",
   "metadata": {},
   "outputs": [],
   "source": [
    "import pandas as pd\n",
    "import numpy as np"
   ]
  },
  {
   "cell_type": "code",
   "execution_count": 39,
   "id": "8f0d4b0b-67d3-425c-89e8-f58f8af645c1",
   "metadata": {},
   "outputs": [],
   "source": [
    "df = pd.read_csv(\"dirty_cafe_sales.csv\")"
   ]
  },
  {
   "cell_type": "markdown",
   "id": "197d44b3-d2b5-42a5-b75c-078b12b7a43c",
   "metadata": {},
   "source": [
    "# 1. Asssesing the quality of the data\n",
    "   Checking for:<br>\n",
    "       -Missing values<br>\n",
    "       -Duplicates<br>\n",
    "       -Number of Rows and Columns\n",
    "    "
   ]
  },
  {
   "cell_type": "code",
   "execution_count": 41,
   "id": "3b7c02a0-e299-4a2a-95b3-bdb61327613b",
   "metadata": {},
   "outputs": [
    {
     "data": {
      "text/html": [
       "<div>\n",
       "<style scoped>\n",
       "    .dataframe tbody tr th:only-of-type {\n",
       "        vertical-align: middle;\n",
       "    }\n",
       "\n",
       "    .dataframe tbody tr th {\n",
       "        vertical-align: top;\n",
       "    }\n",
       "\n",
       "    .dataframe thead th {\n",
       "        text-align: right;\n",
       "    }\n",
       "</style>\n",
       "<table border=\"1\" class=\"dataframe\">\n",
       "  <thead>\n",
       "    <tr style=\"text-align: right;\">\n",
       "      <th></th>\n",
       "      <th>Transaction ID</th>\n",
       "      <th>Item</th>\n",
       "      <th>Quantity</th>\n",
       "      <th>Price Per Unit</th>\n",
       "      <th>Total Spent</th>\n",
       "      <th>Payment Method</th>\n",
       "      <th>Location</th>\n",
       "      <th>Transaction Date</th>\n",
       "    </tr>\n",
       "  </thead>\n",
       "  <tbody>\n",
       "    <tr>\n",
       "      <th>0</th>\n",
       "      <td>TXN_1961373</td>\n",
       "      <td>Coffee</td>\n",
       "      <td>2</td>\n",
       "      <td>2.0</td>\n",
       "      <td>4.0</td>\n",
       "      <td>Credit Card</td>\n",
       "      <td>Takeaway</td>\n",
       "      <td>2023-09-08</td>\n",
       "    </tr>\n",
       "    <tr>\n",
       "      <th>1</th>\n",
       "      <td>TXN_4977031</td>\n",
       "      <td>Cake</td>\n",
       "      <td>4</td>\n",
       "      <td>3.0</td>\n",
       "      <td>12.0</td>\n",
       "      <td>Cash</td>\n",
       "      <td>In-store</td>\n",
       "      <td>2023-05-16</td>\n",
       "    </tr>\n",
       "    <tr>\n",
       "      <th>2</th>\n",
       "      <td>TXN_4271903</td>\n",
       "      <td>Cookie</td>\n",
       "      <td>4</td>\n",
       "      <td>1.0</td>\n",
       "      <td>ERROR</td>\n",
       "      <td>Credit Card</td>\n",
       "      <td>In-store</td>\n",
       "      <td>2023-07-19</td>\n",
       "    </tr>\n",
       "    <tr>\n",
       "      <th>3</th>\n",
       "      <td>TXN_7034554</td>\n",
       "      <td>Salad</td>\n",
       "      <td>2</td>\n",
       "      <td>5.0</td>\n",
       "      <td>10.0</td>\n",
       "      <td>UNKNOWN</td>\n",
       "      <td>UNKNOWN</td>\n",
       "      <td>2023-04-27</td>\n",
       "    </tr>\n",
       "    <tr>\n",
       "      <th>4</th>\n",
       "      <td>TXN_3160411</td>\n",
       "      <td>Coffee</td>\n",
       "      <td>2</td>\n",
       "      <td>2.0</td>\n",
       "      <td>4.0</td>\n",
       "      <td>Digital Wallet</td>\n",
       "      <td>In-store</td>\n",
       "      <td>2023-06-11</td>\n",
       "    </tr>\n",
       "  </tbody>\n",
       "</table>\n",
       "</div>"
      ],
      "text/plain": [
       "  Transaction ID    Item Quantity Price Per Unit Total Spent  Payment Method  \\\n",
       "0    TXN_1961373  Coffee        2            2.0         4.0     Credit Card   \n",
       "1    TXN_4977031    Cake        4            3.0        12.0            Cash   \n",
       "2    TXN_4271903  Cookie        4            1.0       ERROR     Credit Card   \n",
       "3    TXN_7034554   Salad        2            5.0        10.0         UNKNOWN   \n",
       "4    TXN_3160411  Coffee        2            2.0         4.0  Digital Wallet   \n",
       "\n",
       "   Location Transaction Date  \n",
       "0  Takeaway       2023-09-08  \n",
       "1  In-store       2023-05-16  \n",
       "2  In-store       2023-07-19  \n",
       "3   UNKNOWN       2023-04-27  \n",
       "4  In-store       2023-06-11  "
      ]
     },
     "execution_count": 41,
     "metadata": {},
     "output_type": "execute_result"
    }
   ],
   "source": [
    "df.head()"
   ]
  },
  {
   "cell_type": "code",
   "execution_count": 43,
   "id": "bbddf292-2779-485a-9792-af79758568ea",
   "metadata": {},
   "outputs": [
    {
     "data": {
      "text/plain": [
       "Transaction ID         0\n",
       "Item                 333\n",
       "Quantity             138\n",
       "Price Per Unit       179\n",
       "Total Spent          173\n",
       "Payment Method      2579\n",
       "Location            3265\n",
       "Transaction Date     159\n",
       "dtype: int64"
      ]
     },
     "execution_count": 43,
     "metadata": {},
     "output_type": "execute_result"
    }
   ],
   "source": [
    "#Total nul values\n",
    "df.isnull().sum()"
   ]
  },
  {
   "cell_type": "code",
   "execution_count": 45,
   "id": "6b5209e0-5629-473a-989d-da139ad837c8",
   "metadata": {},
   "outputs": [
    {
     "name": "stdout",
     "output_type": "stream",
     "text": [
      "<class 'pandas.core.frame.DataFrame'>\n",
      "RangeIndex: 10000 entries, 0 to 9999\n",
      "Data columns (total 8 columns):\n",
      " #   Column            Non-Null Count  Dtype \n",
      "---  ------            --------------  ----- \n",
      " 0   Transaction ID    10000 non-null  object\n",
      " 1   Item              9667 non-null   object\n",
      " 2   Quantity          9862 non-null   object\n",
      " 3   Price Per Unit    9821 non-null   object\n",
      " 4   Total Spent       9827 non-null   object\n",
      " 5   Payment Method    7421 non-null   object\n",
      " 6   Location          6735 non-null   object\n",
      " 7   Transaction Date  9841 non-null   object\n",
      "dtypes: object(8)\n",
      "memory usage: 625.1+ KB\n"
     ]
    }
   ],
   "source": [
    "# Incorrect data types\n",
    "df.info()"
   ]
  },
  {
   "cell_type": "code",
   "execution_count": 51,
   "id": "0f42a03b-f168-4bb4-94c9-d5bc06748a7f",
   "metadata": {},
   "outputs": [
    {
     "data": {
      "text/plain": [
       "0"
      ]
     },
     "execution_count": 51,
     "metadata": {},
     "output_type": "execute_result"
    }
   ],
   "source": [
    "df.duplicated().sum()"
   ]
  },
  {
   "cell_type": "code",
   "execution_count": 53,
   "id": "1618648a-732c-4252-9a13-d32224bce34f",
   "metadata": {},
   "outputs": [
    {
     "data": {
      "text/plain": [
       "(10000, 8)"
      ]
     },
     "execution_count": 53,
     "metadata": {},
     "output_type": "execute_result"
    }
   ],
   "source": [
    "df.shape"
   ]
  },
  {
   "cell_type": "markdown",
   "id": "26ba6483-a810-44a5-b580-8274ccf682d7",
   "metadata": {},
   "source": [
    "# 2. Data type standardization"
   ]
  },
  {
   "cell_type": "code",
   "execution_count": 55,
   "id": "1a9eae33-06ce-46bf-97ea-9dbfb1dbc9d8",
   "metadata": {},
   "outputs": [],
   "source": [
    "df = df.replace([\"ERROR\", \"UNKNOWN\"], np.nan)"
   ]
  },
  {
   "cell_type": "code",
   "execution_count": 57,
   "id": "c402076a-6f2d-4579-8fc0-ab6f9a954565",
   "metadata": {},
   "outputs": [
    {
     "name": "stdout",
     "output_type": "stream",
     "text": [
      "<class 'pandas.core.frame.DataFrame'>\n",
      "RangeIndex: 10000 entries, 0 to 9999\n",
      "Data columns (total 8 columns):\n",
      " #   Column            Non-Null Count  Dtype         \n",
      "---  ------            --------------  -----         \n",
      " 0   Transaction ID    10000 non-null  object        \n",
      " 1   Item              9031 non-null   object        \n",
      " 2   Quantity          9521 non-null   float64       \n",
      " 3   Price Per Unit    9467 non-null   float64       \n",
      " 4   Total Spent       9498 non-null   float64       \n",
      " 5   Payment Method    6822 non-null   object        \n",
      " 6   Location          6039 non-null   object        \n",
      " 7   Transaction Date  9540 non-null   datetime64[ns]\n",
      "dtypes: datetime64[ns](1), float64(3), object(4)\n",
      "memory usage: 625.1+ KB\n"
     ]
    }
   ],
   "source": [
    "def standardized_data(df):\n",
    "    df[\"Quantity\"]=pd.to_numeric(df[\"Quantity\"])\n",
    "    df[\"Price Per Unit\"] = pd.to_numeric( df[\"Price Per Unit\"])\n",
    "    df[\"Total Spent\"] = pd.to_numeric( df[\"Total Spent\"])\n",
    "    df[\"Transaction Date\"] = pd.to_datetime(df[\"Transaction Date\"])\n",
    "    return df\n",
    "standardized_data(df).info()"
   ]
  },
  {
   "cell_type": "markdown",
   "id": "4796f14f-6422-44e4-afb5-1c9d2d30c077",
   "metadata": {},
   "source": [
    "# 3. Handling missing Values"
   ]
  },
  {
   "cell_type": "code",
   "execution_count": 59,
   "id": "827300f7-c1de-4b48-9535-ed12e86c4a65",
   "metadata": {},
   "outputs": [
    {
     "name": "stdout",
     "output_type": "stream",
     "text": [
      "<class 'pandas.core.frame.DataFrame'>\n",
      "RangeIndex: 10000 entries, 0 to 9999\n",
      "Data columns (total 8 columns):\n",
      " #   Column            Non-Null Count  Dtype         \n",
      "---  ------            --------------  -----         \n",
      " 0   Transaction ID    10000 non-null  object        \n",
      " 1   Item              10000 non-null  object        \n",
      " 2   Quantity          10000 non-null  float64       \n",
      " 3   Price Per Unit    10000 non-null  float64       \n",
      " 4   Total Spent       10000 non-null  float64       \n",
      " 5   Payment Method    10000 non-null  object        \n",
      " 6   Location          10000 non-null  object        \n",
      " 7   Transaction Date  10000 non-null  datetime64[ns]\n",
      "dtypes: datetime64[ns](1), float64(3), object(4)\n",
      "memory usage: 625.1+ KB\n"
     ]
    }
   ],
   "source": [
    "from sklearn.impute import SimpleImputer\n",
    "def handle_missing_values(df):\n",
    "    numerical_columns = df.select_dtypes(include=[\"float64\",\"int64\"]).columns\n",
    "    if len(numerical_columns) > 0:\n",
    "        numeric_imputer = SimpleImputer(strategy=\"median\")\n",
    "        df[numerical_columns] = numeric_imputer.fit_transform(df[numerical_columns])\n",
    "        \n",
    "        categorical_columns = df.select_dtypes(include=[\"object\"]).columns\n",
    "        if len(categorical_columns) > 0:\n",
    "            categorical_imputer = SimpleImputer(strategy=\"most_frequent\")\n",
    "            df[categorical_columns] = categorical_imputer.fit_transform(df[categorical_columns])\n",
    "        df['Transaction Date'] = df['Transaction Date'].interpolate()       \n",
    "     \n",
    "    return df        \n",
    "    \n",
    "handle_missing_values(df).info()   "
   ]
  },
  {
   "cell_type": "markdown",
   "id": "7ea717d7-a87f-476b-8346-b43e03617743",
   "metadata": {},
   "source": [
    "# 4. Changing Numeric data to int64"
   ]
  },
  {
   "cell_type": "code",
   "execution_count": 61,
   "id": "c4c5faac-2a2a-4278-aac6-a9a7a86791bc",
   "metadata": {},
   "outputs": [
    {
     "name": "stdout",
     "output_type": "stream",
     "text": [
      "<class 'pandas.core.frame.DataFrame'>\n",
      "RangeIndex: 10000 entries, 0 to 9999\n",
      "Data columns (total 8 columns):\n",
      " #   Column            Non-Null Count  Dtype         \n",
      "---  ------            --------------  -----         \n",
      " 0   Transaction ID    10000 non-null  object        \n",
      " 1   Item              10000 non-null  object        \n",
      " 2   Quantity          10000 non-null  int64         \n",
      " 3   Price Per Unit    10000 non-null  int64         \n",
      " 4   Total Spent       10000 non-null  int64         \n",
      " 5   Payment Method    10000 non-null  object        \n",
      " 6   Location          10000 non-null  object        \n",
      " 7   Transaction Date  10000 non-null  datetime64[ns]\n",
      "dtypes: datetime64[ns](1), int64(3), object(4)\n",
      "memory usage: 625.1+ KB\n"
     ]
    }
   ],
   "source": [
    "df[\"Quantity\"] = df[\"Quantity\"].astype(\"int64\")\n",
    "df[\"Price Per Unit\"] = df[\"Price Per Unit\"].astype(\"int64\")\n",
    "df[\"Total Spent\"] = df[\"Total Spent\"].astype(\"int64\")\n",
    "df.info()"
   ]
  },
  {
   "cell_type": "markdown",
   "id": "d25c2fc7-5741-4cb0-af0c-b8cbe18edc1b",
   "metadata": {},
   "source": [
    "# 5. Detecting and handling Outlier "
   ]
  },
  {
   "cell_type": "code",
   "execution_count": 63,
   "id": "710fcbdf-d23a-47be-abfb-149410c1409e",
   "metadata": {},
   "outputs": [],
   "source": [
    "def remove_outliers(df):\n",
    "    numeric_columns = df.select_dtypes(include=['int64', 'float64']).columns\n",
    "    outliers_removed = {}\n",
    "    \n",
    "    for column in numeric_columns:\n",
    "        Q1 = df[column].quantile(0.25)\n",
    "        Q3 = df[column].quantile(0.75)\n",
    "        IQR = Q3 - Q1\n",
    "        lower_bound = Q1 - 1.5 * IQR\n",
    "        upper_bound = Q3 + 1.5 * IQR\n",
    "        \n",
    "        # Count outliers before removing\n",
    "        outliers = df[(df[column] < lower_bound) | (df[column] > upper_bound)].shape[0]\n",
    "        \n",
    "        # Cap the values instead of removing them\n",
    "        df[column] = df[column].clip(lower=lower_bound, upper=upper_bound)\n",
    "        \n",
    "        if outliers > 0:\n",
    "            outliers_removed[column] = outliers\n",
    "            \n",
    "    return df, outliers_removed\n",
    "\n",
    "df_1 = df.copy()\n",
    "df_1, outliers_removed = remove_outliers(df_1)"
   ]
  },
  {
   "cell_type": "markdown",
   "id": "264b3db2-754d-4878-a3de-adf52dd3f8c1",
   "metadata": {},
   "source": [
    "# 5. Validating the results"
   ]
  },
  {
   "cell_type": "code",
   "execution_count": 66,
   "id": "893ce932-e487-4cb2-be82-8b0bfc3c6821",
   "metadata": {},
   "outputs": [],
   "source": [
    "# Sort by date\n",
    "df_1 = df_1.sort_values(by='Transaction Date')\n",
    "# Remove time\n",
    "df_1['Transaction Date'] = df_1['Transaction Date'].dt.date\n",
    "    "
   ]
  },
  {
   "cell_type": "code",
   "execution_count": 68,
   "id": "52e73350-5660-4438-b67b-e75b9520cce7",
   "metadata": {},
   "outputs": [],
   "source": [
    "def validate_cleaning(df, original_shape, cleaning_report):\n",
    "    validation_results = {\n",
    "        'rows_remaining': len(df),\n",
    "        'missing_values_remaining': df.isnull().sum().sum(),\n",
    "        'duplicates_remaining': df.duplicated().sum(),\n",
    "        'data_loss_percentage': (1 - len(df)/original_shape[0]) * 100\n",
    "    }\n",
    "    \n",
    "    cleaning_report['validation'] = validation_results\n",
    "    return cleaning_report"
   ]
  },
  {
   "cell_type": "code",
   "execution_count": 70,
   "id": "ad274b84-e617-430e-9aa3-c93201a12f55",
   "metadata": {},
   "outputs": [
    {
     "data": {
      "text/plain": [
       "{'validation': {'rows_remaining': 10000,\n",
       "  'missing_values_remaining': 0,\n",
       "  'duplicates_remaining': 0,\n",
       "  'data_loss_percentage': 0.0}}"
      ]
     },
     "execution_count": 70,
     "metadata": {},
     "output_type": "execute_result"
    }
   ],
   "source": [
    "cleaning_report = {}\n",
    "report = validate_cleaning(df_1, df_1.shape,cleaning_report)\n",
    "report"
   ]
  },
  {
   "cell_type": "code",
   "execution_count": 72,
   "id": "48dbfd05-bd0e-4df7-a1bd-9ea360a3c909",
   "metadata": {},
   "outputs": [],
   "source": [
    "df_1.to_csv(\"Cleaned Cafe Sales_final1.csv\")"
   ]
  },
  {
   "cell_type": "code",
   "execution_count": null,
   "id": "c56e6c44-d151-4149-a15f-0f0409c55928",
   "metadata": {},
   "outputs": [],
   "source": []
  }
 ],
 "metadata": {
  "kernelspec": {
   "display_name": "Python 3 (ipykernel)",
   "language": "python",
   "name": "python3"
  },
  "language_info": {
   "codemirror_mode": {
    "name": "ipython",
    "version": 3
   },
   "file_extension": ".py",
   "mimetype": "text/x-python",
   "name": "python",
   "nbconvert_exporter": "python",
   "pygments_lexer": "ipython3",
   "version": "3.11.7"
  }
 },
 "nbformat": 4,
 "nbformat_minor": 5
}
